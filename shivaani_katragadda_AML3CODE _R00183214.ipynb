{
 "cells": [
  {
   "cell_type": "markdown",
   "metadata": {},
   "source": [
    "# STUDENT NAME : SHIVAANI KATRAGADDA\n",
    "\n",
    "# STUDEN NUMBER : R00183214\n",
    "\n",
    "# COURSE : MSc.DATA SCIENCE & ANALYTICS\n",
    "\n",
    "# MODULE : APPLIED MACHINE LEARNING\n",
    "\n",
    "# MODULE CODE : COMP9060\n",
    "\n",
    "# ASSIGNMENT NUMBER : 3\n",
    "\n",
    "# PROFESSOR : DR. HAITHEM AFLI\n",
    "\n",
    "# DATE : 21-05-2020\n",
    "\n",
    "# DAY : THURSDAY"
   ]
  },
  {
   "cell_type": "markdown",
   "metadata": {},
   "source": [
    "In this assignment, I was given a dataset called the  Dog Vs Cats dataset. It is an open-source dataset that is available at the website https://www.kaggle.com/c/dogs-vs-cats/data. The dataset is a collection of images. There are only two types of images in the dataset that is cat and dog. The dataset is comprised of 25,000 images of dogs and cats. This is a binary classification problem. The images have a significant variation in the pose. The objective of this assessment is to build a machine learning Cat/Dog image classifier. Therefore I have to implement a system to classify whether images contain either a dog or a cat.\n",
    "\n",
    "I have used a selection of images (1000 for the train and 100 for the test) for initial development in the file (project3_files.zip) for this assignment. The project3_files.zip folder contains two file train and test. The training file contains 1000 images, this data is used for training the data and the test file contains 100 images, this data is used for testing the data."
   ]
  },
  {
   "cell_type": "markdown",
   "metadata": {},
   "source": [
    "Initially, I have imported and installed all the required packages for the task to perform."
   ]
  },
  {
   "cell_type": "code",
   "execution_count": null,
   "metadata": {},
   "outputs": [],
   "source": [
    "#INSTALLING OPENCV\n",
    "#I have already installed that in my computer so I am making that command as comment here.\n",
    "#to use cv2 we need opencv\n",
    "#pip install opencv-python"
   ]
  },
  {
   "cell_type": "markdown",
   "metadata": {},
   "source": [
    "# PART A: PRE-PROCESSING PHASE"
   ]
  },
  {
   "cell_type": "code",
   "execution_count": 1,
   "metadata": {},
   "outputs": [],
   "source": [
    "#lOADING ALL THE REQUIRED PACKAGES\n",
    "from __future__ import print_function\n",
    "import os\n",
    "import numpy as np\n",
    "import pandas as pd\n",
    "from PIL import Image\n",
    "from matplotlib import image\n",
    "import matplotlib.pyplot as plt\n",
    "from os import listdir\n",
    "import cv2 as cv\n",
    "from sklearn.decomposition import PCA\n",
    "from sklearn.model_selection import train_test_split\n",
    "from sklearn.metrics import classification_report, confusion_matrix, accuracy_score\n",
    "from sklearn.neighbors import KNeighborsClassifier\n",
    "from sklearn.model_selection import cross_val_score\n",
    "from sklearn.tree import DecisionTreeClassifier\n",
    "from sklearn.ensemble import RandomForestClassifier\n",
    "from sklearn.linear_model import LogisticRegression\n",
    "from sklearn.linear_model import SGDClassifier\n",
    "from sklearn.naive_bayes import GaussianNB \n",
    "from sklearn.svm import SVC\n",
    "from sklearn.ensemble import GradientBoostingClassifier\n",
    "from sklearn.ensemble import AdaBoostClassifier\n",
    "from sklearn import metrics\n",
    "from sklearn.metrics import classification_report\n",
    "from sklearn.metrics import confusion_matrix\n",
    "from sklearn.metrics import  accuracy_score\n",
    "import seaborn as sns\n",
    "import matplotlib.pyplot as plt\n",
    "from sklearn.model_selection import GridSearchCV\n",
    "from pprint import pprint\n",
    "from sklearn.metrics import roc_auc_score\n"
   ]
  },
  {
   "cell_type": "markdown",
   "metadata": {},
   "source": [
    "I have intiliazed two empty lists they are loaded_images and categories.In loaded_images i will be importing all the given images in the train dataset and categories have the names of dog and cat. I splitted the data and assigned that if the category is dog I assigned value 1 and if it is cat I assigned value 0.\n",
    "I read the images by using cv.imread,resized the data by using cv.resize(), normalised the data by using cv.normalise() function.\n",
    "And then flattened the images using flatten() function.\n",
    "After reading the images and categories I created a dataframe by using pandas. I assigned loaded_images to the variable filename and categories to category and the name of the dataframe is cat_dog"
   ]
  },
  {
   "cell_type": "code",
   "execution_count": 2,
   "metadata": {},
   "outputs": [],
   "source": [
    "#for loading all image in a list\n",
    "loaded_images=[]\n",
    "##for loading all categories in a list\n",
    "categories = []\n",
    "##for  loading all normalize image\n",
    "nor_images=[]\n",
    "filenames = os.listdir(\"F:/AML3/Project3_files/data/train\")\n",
    "for filename in listdir(\"F:/AML3/Project3_files/data/train\"):\n",
    "   \n",
    "   \n",
    "    category = filename.split('.')[0]\n",
    "    #if the category is dog I am assigning value 1 else 0 i.e for cat\n",
    "    if category == 'dog':\n",
    "        categories.append(1)\n",
    "    else:\n",
    "        categories.append(0)\n",
    "\n",
    "    img_data= cv.imread(\"F:/AML3/Project3_files/data/train/\"+filename)\n",
    "    ##resizing the images by 350*350\n",
    "    resizing = cv.resize(img_data,(350, 350),interpolation = cv.INTER_AREA)\n",
    "    #normalizing the images\n",
    "    normal_image = cv.normalize(resizing, None, alpha=0, beta=1, norm_type=cv.NORM_MINMAX, dtype=cv.CV_32F)\n",
    "    #appending the images\n",
    "    nor_images.append(normal_image)\n",
    "    #flattening the images\n",
    "    resizing1=normal_image.flatten()\n",
    "    #appending the flatten images\n",
    "    loaded_images.append(resizing1)\n",
    "    #printing the data\n",
    "    #print('>loaded %s %s' %(filename,img_data.shape))\n",
    "    #print('resize dim:', resizing.shape)\n",
    "    #print('Resized Dimensions : ',resizing1.shape)\n"
   ]
  },
  {
   "cell_type": "code",
   "execution_count": 3,
   "metadata": {},
   "outputs": [
    {
     "data": {
      "text/html": [
       "<div>\n",
       "<style scoped>\n",
       "    .dataframe tbody tr th:only-of-type {\n",
       "        vertical-align: middle;\n",
       "    }\n",
       "\n",
       "    .dataframe tbody tr th {\n",
       "        vertical-align: top;\n",
       "    }\n",
       "\n",
       "    .dataframe thead th {\n",
       "        text-align: right;\n",
       "    }\n",
       "</style>\n",
       "<table border=\"1\" class=\"dataframe\">\n",
       "  <thead>\n",
       "    <tr style=\"text-align: right;\">\n",
       "      <th></th>\n",
       "      <th>filename</th>\n",
       "      <th>category</th>\n",
       "    </tr>\n",
       "  </thead>\n",
       "  <tbody>\n",
       "    <tr>\n",
       "      <th>0</th>\n",
       "      <td>cat.0.jpg</td>\n",
       "      <td>0</td>\n",
       "    </tr>\n",
       "    <tr>\n",
       "      <th>1</th>\n",
       "      <td>cat.1.jpg</td>\n",
       "      <td>0</td>\n",
       "    </tr>\n",
       "    <tr>\n",
       "      <th>2</th>\n",
       "      <td>cat.10.jpg</td>\n",
       "      <td>0</td>\n",
       "    </tr>\n",
       "    <tr>\n",
       "      <th>3</th>\n",
       "      <td>cat.100.jpg</td>\n",
       "      <td>0</td>\n",
       "    </tr>\n",
       "    <tr>\n",
       "      <th>4</th>\n",
       "      <td>cat.101.jpg</td>\n",
       "      <td>0</td>\n",
       "    </tr>\n",
       "    <tr>\n",
       "      <th>...</th>\n",
       "      <td>...</td>\n",
       "      <td>...</td>\n",
       "    </tr>\n",
       "    <tr>\n",
       "      <th>997</th>\n",
       "      <td>dog.95.jpg</td>\n",
       "      <td>1</td>\n",
       "    </tr>\n",
       "    <tr>\n",
       "      <th>998</th>\n",
       "      <td>dog.96.jpg</td>\n",
       "      <td>1</td>\n",
       "    </tr>\n",
       "    <tr>\n",
       "      <th>999</th>\n",
       "      <td>dog.97.jpg</td>\n",
       "      <td>1</td>\n",
       "    </tr>\n",
       "    <tr>\n",
       "      <th>1000</th>\n",
       "      <td>dog.98.jpg</td>\n",
       "      <td>1</td>\n",
       "    </tr>\n",
       "    <tr>\n",
       "      <th>1001</th>\n",
       "      <td>dog.99.jpg</td>\n",
       "      <td>1</td>\n",
       "    </tr>\n",
       "  </tbody>\n",
       "</table>\n",
       "<p>1002 rows × 2 columns</p>\n",
       "</div>"
      ],
      "text/plain": [
       "         filename  category\n",
       "0       cat.0.jpg         0\n",
       "1       cat.1.jpg         0\n",
       "2      cat.10.jpg         0\n",
       "3     cat.100.jpg         0\n",
       "4     cat.101.jpg         0\n",
       "...           ...       ...\n",
       "997    dog.95.jpg         1\n",
       "998    dog.96.jpg         1\n",
       "999    dog.97.jpg         1\n",
       "1000   dog.98.jpg         1\n",
       "1001   dog.99.jpg         1\n",
       "\n",
       "[1002 rows x 2 columns]"
      ]
     },
     "execution_count": 3,
     "metadata": {},
     "output_type": "execute_result"
    }
   ],
   "source": [
    "#pandas dataframe for files and categories\n",
    "cat_dog = pd.DataFrame({\n",
    "    'filename': filenames,\n",
    "    'category': categories\n",
    "})\n",
    "#printing the dataframe\n",
    "cat_dog"
   ]
  },
  {
   "cell_type": "markdown",
   "metadata": {},
   "source": [
    "Here I am converting the loaded_images and categories in to numpy arrays, assigning the loaded_images in to variable X and categories into variable y "
   ]
  },
  {
   "cell_type": "code",
   "execution_count": 4,
   "metadata": {},
   "outputs": [],
   "source": [
    "#converting images in to numpy array\n",
    "X = np.array(loaded_images)\n",
    "\n",
    "#converting categories in to numpy array\n",
    "y=np.array(categories)"
   ]
  },
  {
   "cell_type": "markdown",
   "metadata": {},
   "source": [
    "\n",
    "I used PCA() fuction which is available in sklearn.decomposition.For the n_components I have assigned the value 25.\n"
   ]
  },
  {
   "cell_type": "code",
   "execution_count": 5,
   "metadata": {},
   "outputs": [
    {
     "data": {
      "text/plain": [
       "(1002, 25)"
      ]
     },
     "execution_count": 5,
     "metadata": {},
     "output_type": "execute_result"
    }
   ],
   "source": [
    "#performining PCA\n",
    "from sklearn.decomposition import PCA\n",
    "#given n_components=25\n",
    "pca = PCA(n_components = 25)\n",
    "#fitting the pca for images\n",
    "pca.fit(X)\n",
    "#transforming the data\n",
    "reduced=pca.transform(X)\n",
    "#shape of reduced data\n",
    "reduced.shape"
   ]
  },
  {
   "cell_type": "code",
   "execution_count": 6,
   "metadata": {},
   "outputs": [
    {
     "data": {
      "text/plain": [
       "array([[-26.834148  ,  72.451836  , 121.772995  , ...,  13.873478  ,\n",
       "        -19.63977   , -20.259691  ],\n",
       "       [102.69871   ,  27.354412  ,  23.223078  , ...,   0.7799087 ,\n",
       "          7.492433  ,  -6.1978164 ],\n",
       "       [ 27.684584  , -20.024143  ,  24.285273  , ..., -24.083487  ,\n",
       "         -7.261979  ,  -7.931734  ],\n",
       "       ...,\n",
       "       [-55.0678    ,   4.517707  , -36.430473  , ...,  -3.7398067 ,\n",
       "         21.925724  , -11.747543  ],\n",
       "       [ 23.187721  ,  -9.618494  ,  -2.8310485 , ...,  -8.226206  ,\n",
       "        -11.013342  , -14.484751  ],\n",
       "       [ 66.7822    , -21.320372  , -13.313135  , ...,   0.44607896,\n",
       "          6.1080737 ,  10.261925  ]], dtype=float32)"
      ]
     },
     "execution_count": 6,
     "metadata": {},
     "output_type": "execute_result"
    }
   ],
   "source": [
    "#printing the reduced data\n",
    "reduced"
   ]
  },
  {
   "cell_type": "code",
   "execution_count": 7,
   "metadata": {},
   "outputs": [],
   "source": [
    "#This is the first stage pre_processing"
   ]
  },
  {
   "cell_type": "markdown",
   "metadata": {},
   "source": [
    "# PART B: TRAINING PHASE"
   ]
  },
  {
   "cell_type": "markdown",
   "metadata": {},
   "source": [
    "## SPLITTING THE DATA"
   ]
  },
  {
   "cell_type": "markdown",
   "metadata": {},
   "source": [
    "I splitted the data which is obtained after dimension reduction.I will be splitting the data in to the ratio 80% for training and 20% for testing."
   ]
  },
  {
   "cell_type": "code",
   "execution_count": 8,
   "metadata": {},
   "outputs": [
    {
     "name": "stdout",
     "output_type": "stream",
     "text": [
      "(801, 25) (801,)\n",
      "(201, 25) (201,)\n"
     ]
    }
   ],
   "source": [
    "from sklearn.model_selection import train_test_split\n",
    "np.random.seed(214)\n",
    "# create training and testing \n",
    "X_train, X_test, y_train, y_test = train_test_split(reduced, y, test_size=0.2, random_state=214)\n",
    "#printing shape of X_train.shape, y_train.shape\n",
    "print(X_train.shape, y_train.shape)\n",
    "\n",
    "#printing shape of X_test.shape, y_test.shape\n",
    "print (X_test.shape, y_test.shape)\n"
   ]
  },
  {
   "cell_type": "markdown",
   "metadata": {},
   "source": [
    "## BUILDING THE MODELS"
   ]
  },
  {
   "cell_type": "markdown",
   "metadata": {},
   "source": [
    "Buildig the models and cross validating it by using cv=5 and scoring='accuracy'"
   ]
  },
  {
   "cell_type": "markdown",
   "metadata": {},
   "source": [
    "# 1.LOGISTIC REGRESSION"
   ]
  },
  {
   "cell_type": "code",
   "execution_count": 9,
   "metadata": {},
   "outputs": [
    {
     "name": "stdout",
     "output_type": "stream",
     "text": [
      "[[57 56]\n",
      " [35 53]]\n",
      "              precision    recall  f1-score   support\n",
      "\n",
      "           0       0.62      0.50      0.56       113\n",
      "           1       0.49      0.60      0.54        88\n",
      "\n",
      "    accuracy                           0.55       201\n",
      "   macro avg       0.55      0.55      0.55       201\n",
      "weighted avg       0.56      0.55      0.55       201\n",
      "\n",
      "Confusion Matrix: \n",
      " [[57 56]\n",
      " [35 53]]\n",
      "\n"
     ]
    }
   ],
   "source": [
    "from sklearn.linear_model import LogisticRegression\n",
    "np.random.seed(214)\n",
    "\n",
    "#defining the classifier \n",
    "Logistic =LogisticRegression()\n",
    "#fitting the model\n",
    "\n",
    "Logistic.fit(X_train, y_train)\n",
    "#generating prediction\n",
    "\n",
    "y_pred = Logistic.predict(X_test)\n",
    "#printing confusion matrix,classification report \n",
    "\n",
    "print(confusion_matrix(y_test, y_pred))\n",
    "print(classification_report(y_test, y_pred))\n",
    "print('Confusion Matrix: \\n', confusion_matrix(y_test,y_pred))\n",
    "print()\n"
   ]
  },
  {
   "cell_type": "code",
   "execution_count": 10,
   "metadata": {},
   "outputs": [
    {
     "name": "stdout",
     "output_type": "stream",
     "text": [
      "[0.55721393 0.54726368 0.595      0.495      0.54      ]\n",
      "0.5468955223880597\n"
     ]
    }
   ],
   "source": [
    "from sklearn.model_selection import cross_val_score\n",
    "\n",
    "# reduced,y will automatically devided by 5 folder, the scoring I will still use the accuracy\n",
    "scores = cross_val_score(Logistic, reduced, y, cv=5, scoring='accuracy')\n",
    "# print all 5 times scores \n",
    "print(scores)\n",
    "\n",
    "# then I will do the average about these five scores to get more accuracy score.\n",
    "print(scores.mean())\n"
   ]
  },
  {
   "cell_type": "markdown",
   "metadata": {},
   "source": [
    "# 2.Navie Bayesians Classifier"
   ]
  },
  {
   "cell_type": "code",
   "execution_count": 11,
   "metadata": {},
   "outputs": [
    {
     "name": "stdout",
     "output_type": "stream",
     "text": [
      "[[60 53]\n",
      " [25 63]]\n",
      "              precision    recall  f1-score   support\n",
      "\n",
      "           0       0.71      0.53      0.61       113\n",
      "           1       0.54      0.72      0.62        88\n",
      "\n",
      "    accuracy                           0.61       201\n",
      "   macro avg       0.62      0.62      0.61       201\n",
      "weighted avg       0.63      0.61      0.61       201\n",
      "\n",
      "Confusion Matrix: \n",
      " [[60 53]\n",
      " [25 63]]\n",
      "\n"
     ]
    }
   ],
   "source": [
    "from sklearn.naive_bayes import GaussianNB \n",
    "#defining the classifier \n",
    "GaussianNB =GaussianNB()\n",
    "#fitting the model\n",
    "\n",
    "GaussianNB.fit(X_train, y_train)\n",
    "#generating prediction\n",
    "\n",
    "y_pred = GaussianNB.predict(X_test)\n",
    "#printing confusion matrix,classification report\n",
    "\n",
    "print(confusion_matrix(y_test, y_pred))\n",
    "print(classification_report(y_test, y_pred))\n",
    "print('Confusion Matrix: \\n', confusion_matrix(y_test,y_pred))\n",
    "print()\n"
   ]
  },
  {
   "cell_type": "code",
   "execution_count": 12,
   "metadata": {},
   "outputs": [
    {
     "name": "stdout",
     "output_type": "stream",
     "text": [
      "[0.54726368 0.58706468 0.62       0.595      0.65      ]\n",
      "0.5998656716417909\n"
     ]
    }
   ],
   "source": [
    "\n",
    "from sklearn.model_selection import cross_val_score\n",
    "\n",
    "# reduced,y will automatically devided by 5 folder, the scoring I will still use the accuracy\n",
    "scores = cross_val_score(GaussianNB , reduced, y, cv=5, scoring='accuracy')\n",
    "# print all 5 times scores \n",
    "print(scores)\n",
    "\n",
    "# then I will do the average about these five scores to get more accuracy score.\n",
    "print(scores.mean())\n"
   ]
  },
  {
   "cell_type": "markdown",
   "metadata": {},
   "source": [
    "# 3.KNeighbors Classifier"
   ]
  },
  {
   "cell_type": "code",
   "execution_count": 13,
   "metadata": {},
   "outputs": [
    {
     "name": "stdout",
     "output_type": "stream",
     "text": [
      "[[53 60]\n",
      " [26 62]]\n",
      "              precision    recall  f1-score   support\n",
      "\n",
      "           0       0.67      0.47      0.55       113\n",
      "           1       0.51      0.70      0.59        88\n",
      "\n",
      "    accuracy                           0.57       201\n",
      "   macro avg       0.59      0.59      0.57       201\n",
      "weighted avg       0.60      0.57      0.57       201\n",
      "\n",
      "Confusion Matrix: \n",
      " [[53 60]\n",
      " [26 62]]\n",
      "\n"
     ]
    }
   ],
   "source": [
    "from sklearn.neighbors import KNeighborsClassifier\n",
    "#defining the classifier \n",
    "knn = KNeighborsClassifier(n_neighbors=5)\n",
    "#fitting the model\n",
    "\n",
    "knn.fit(X_train, y_train)\n",
    "#generating prediction\n",
    "\n",
    "y_pred = knn.predict(X_test)\n",
    "#printing confusion matrix,classification report\n",
    "\n",
    "print(confusion_matrix(y_test, y_pred))\n",
    "print(classification_report(y_test, y_pred))\n",
    "print('Confusion Matrix: \\n', confusion_matrix(y_test,y_pred))\n",
    "print()"
   ]
  },
  {
   "cell_type": "code",
   "execution_count": 14,
   "metadata": {},
   "outputs": [
    {
     "name": "stdout",
     "output_type": "stream",
     "text": [
      "[0.5721393  0.55223881 0.55       0.65       0.63      ]\n",
      "0.5908756218905473\n"
     ]
    }
   ],
   "source": [
    "from sklearn.model_selection import cross_val_score\n",
    "\n",
    "# reduced,y will automatically devided by 5 folder, the scoring I will still use the accuracy\n",
    "scores = cross_val_score(knn, reduced, y, cv=5, scoring='accuracy')\n",
    "# print all 5 times scores \n",
    "print(scores)\n",
    "\n",
    "# then I will do the average about these five scores to get more accuracy score.\n",
    "print(scores.mean())\n"
   ]
  },
  {
   "cell_type": "markdown",
   "metadata": {},
   "source": [
    "# 4.Support Vector Machines"
   ]
  },
  {
   "cell_type": "code",
   "execution_count": 15,
   "metadata": {},
   "outputs": [
    {
     "name": "stdout",
     "output_type": "stream",
     "text": [
      "[[60 53]\n",
      " [28 60]]\n",
      "              precision    recall  f1-score   support\n",
      "\n",
      "           0       0.68      0.53      0.60       113\n",
      "           1       0.53      0.68      0.60        88\n",
      "\n",
      "    accuracy                           0.60       201\n",
      "   macro avg       0.61      0.61      0.60       201\n",
      "weighted avg       0.62      0.60      0.60       201\n",
      "\n",
      "Confusion Matrix: \n",
      " [[60 53]\n",
      " [28 60]]\n",
      "\n"
     ]
    }
   ],
   "source": [
    "from sklearn.svm import SVC\n",
    "#defining the classifier \n",
    "SVC =SVC()\n",
    "#fitting the model\n",
    "\n",
    "SVC.fit(X_train, y_train)\n",
    "#generating prediction\n",
    "\n",
    "y_pred = SVC.predict(X_test)\n",
    "#printing confusion matrix,classification report \n",
    "\n",
    "print(confusion_matrix(y_test, y_pred))\n",
    "print(classification_report(y_test, y_pred))\n",
    "print('Confusion Matrix: \\n', confusion_matrix(y_test,y_pred))\n",
    "print()\n"
   ]
  },
  {
   "cell_type": "code",
   "execution_count": 16,
   "metadata": {},
   "outputs": [
    {
     "name": "stdout",
     "output_type": "stream",
     "text": [
      "[0.58208955 0.57711443 0.59       0.63       0.615     ]\n",
      "0.5988407960199005\n"
     ]
    }
   ],
   "source": [
    "from sklearn.model_selection import cross_val_score\n",
    "\n",
    "# reduced,y will automatically devided by 5 folder, the scoring I will still use the accuracy\n",
    "scores = cross_val_score(SVC, reduced, y, cv=5, scoring='accuracy')\n",
    "# print all 5 times scores \n",
    "print(scores)\n",
    "\n",
    "# then I will do the average about these five scores to get more accuracy score.\n",
    "print(scores.mean())\n"
   ]
  },
  {
   "cell_type": "markdown",
   "metadata": {},
   "source": [
    "# 5.Decision tree"
   ]
  },
  {
   "cell_type": "code",
   "execution_count": 17,
   "metadata": {},
   "outputs": [
    {
     "name": "stdout",
     "output_type": "stream",
     "text": [
      "[[57 56]\n",
      " [31 57]]\n",
      "              precision    recall  f1-score   support\n",
      "\n",
      "           0       0.65      0.50      0.57       113\n",
      "           1       0.50      0.65      0.57        88\n",
      "\n",
      "    accuracy                           0.57       201\n",
      "   macro avg       0.58      0.58      0.57       201\n",
      "weighted avg       0.58      0.57      0.57       201\n",
      "\n",
      "Confusion Matrix: \n",
      " [[57 56]\n",
      " [31 57]]\n",
      "\n"
     ]
    }
   ],
   "source": [
    "from sklearn.tree import DecisionTreeClassifier\n",
    "#defining the classifier \n",
    "decisiontree = DecisionTreeClassifier()\n",
    "#fitting the model\n",
    "\n",
    "decisiontree.fit(X_train, y_train)\n",
    "#generating prediction\n",
    "\n",
    "y_pred = decisiontree.predict(X_test)\n",
    "#printing confusion matrix,classification report \n",
    "\n",
    "print(confusion_matrix(y_test, y_pred))\n",
    "print(classification_report(y_test, y_pred))\n",
    "print('Confusion Matrix: \\n', confusion_matrix(y_test,y_pred))\n",
    "print()\n"
   ]
  },
  {
   "cell_type": "code",
   "execution_count": 18,
   "metadata": {},
   "outputs": [
    {
     "name": "stdout",
     "output_type": "stream",
     "text": [
      "[0.53233831 0.58706468 0.545      0.535      0.535     ]\n",
      "0.5468805970149254\n"
     ]
    }
   ],
   "source": [
    "from sklearn.model_selection import cross_val_score\n",
    "\n",
    "# reduced,y will automatically devided by 5 folder, the scoring I will still use the accuracy\n",
    "scores = cross_val_score(decisiontree, reduced, y, cv=5, scoring='accuracy')\n",
    "# print all 5 times scores \n",
    "print(scores)\n",
    "\n",
    "# then I will do the average about these five scores to get more accuracy score.\n",
    "print(scores.mean())\n"
   ]
  },
  {
   "cell_type": "markdown",
   "metadata": {},
   "source": [
    "# 6.Random Forest"
   ]
  },
  {
   "cell_type": "code",
   "execution_count": 19,
   "metadata": {},
   "outputs": [
    {
     "name": "stdout",
     "output_type": "stream",
     "text": [
      "[[64 49]\n",
      " [27 61]]\n",
      "              precision    recall  f1-score   support\n",
      "\n",
      "           0       0.70      0.57      0.63       113\n",
      "           1       0.55      0.69      0.62        88\n",
      "\n",
      "    accuracy                           0.62       201\n",
      "   macro avg       0.63      0.63      0.62       201\n",
      "weighted avg       0.64      0.62      0.62       201\n",
      "\n",
      "Confusion Matrix: \n",
      " [[64 49]\n",
      " [27 61]]\n",
      "\n"
     ]
    }
   ],
   "source": [
    "from sklearn.ensemble import RandomForestClassifier\n",
    "\n",
    "\n",
    "#defining the classifier \n",
    "random_forest =RandomForestClassifier()\n",
    "#fitting the model\n",
    "\n",
    "random_forest.fit(X_train, y_train)\n",
    "#generating prediction\n",
    "\n",
    "y_pred = random_forest.predict(X_test)\n",
    "#printing confusion matrix,classification report\n",
    "\n",
    "print(confusion_matrix(y_test, y_pred))\n",
    "print(classification_report(y_test, y_pred))\n",
    "print('Confusion Matrix: \\n', confusion_matrix(y_test,y_pred))\n",
    "print()\n"
   ]
  },
  {
   "cell_type": "code",
   "execution_count": 20,
   "metadata": {},
   "outputs": [
    {
     "name": "stdout",
     "output_type": "stream",
     "text": [
      "[0.55721393 0.58208955 0.62       0.595      0.64      ]\n",
      "0.5988606965174129\n"
     ]
    }
   ],
   "source": [
    "from sklearn.model_selection import cross_val_score\n",
    "\n",
    "\n",
    "# reduced,y will automatically devided by 5 folder, the scoring I will still use the accuracy\n",
    "scores = cross_val_score(random_forest, reduced, y, cv=5, scoring='accuracy')\n",
    "# print all 5 times scores \n",
    "print(scores)\n",
    "\n",
    "# then I will do the average about these five scores to get more accuracy score.\n",
    "print(scores.mean())\n"
   ]
  },
  {
   "cell_type": "markdown",
   "metadata": {},
   "source": [
    "# 7.SGD Classifier"
   ]
  },
  {
   "cell_type": "code",
   "execution_count": 21,
   "metadata": {},
   "outputs": [
    {
     "name": "stdout",
     "output_type": "stream",
     "text": [
      "[[58 55]\n",
      " [42 46]]\n",
      "              precision    recall  f1-score   support\n",
      "\n",
      "           0       0.58      0.51      0.54       113\n",
      "           1       0.46      0.52      0.49        88\n",
      "\n",
      "    accuracy                           0.52       201\n",
      "   macro avg       0.52      0.52      0.52       201\n",
      "weighted avg       0.53      0.52      0.52       201\n",
      "\n",
      "Confusion Matrix: \n",
      " [[58 55]\n",
      " [42 46]]\n",
      "\n"
     ]
    }
   ],
   "source": [
    "from sklearn.linear_model import SGDClassifier\n",
    "\n",
    "\n",
    "#defining the classifier \n",
    "SGDClassifier =SGDClassifier()\n",
    "#fitting the model\n",
    "\n",
    "SGDClassifier.fit(X_train, y_train)\n",
    "#generating prediction\n",
    "\n",
    "y_pred = SGDClassifier.predict(X_test)\n",
    "#printing confusion matrix,classification report\n",
    "\n",
    "print(confusion_matrix(y_test, y_pred))\n",
    "print(classification_report(y_test, y_pred))\n",
    "print('Confusion Matrix: \\n', confusion_matrix(y_test,y_pred))\n",
    "print()\n"
   ]
  },
  {
   "cell_type": "code",
   "execution_count": 22,
   "metadata": {},
   "outputs": [
    {
     "name": "stdout",
     "output_type": "stream",
     "text": [
      "[0.52736318 0.51243781 0.52       0.535      0.515     ]\n",
      "0.5219601990049751\n"
     ]
    }
   ],
   "source": [
    "from sklearn.model_selection import cross_val_score\n",
    "\n",
    "\n",
    "# reduced,y will automatically devided by 5 folder, the scoring I will still use the accuracy\n",
    "scores = cross_val_score(SGDClassifier, reduced, y, cv=5, scoring='accuracy')\n",
    "# print all 5 times scores \n",
    "print(scores)\n",
    "\n",
    "# then I will do the average about these five scores to get more accuracy score.\n",
    "print(scores.mean())\n"
   ]
  },
  {
   "cell_type": "markdown",
   "metadata": {},
   "source": [
    "# 8.Gradient Boosting Classifier"
   ]
  },
  {
   "cell_type": "code",
   "execution_count": 23,
   "metadata": {},
   "outputs": [
    {
     "name": "stdout",
     "output_type": "stream",
     "text": [
      "[[55 58]\n",
      " [33 55]]\n",
      "              precision    recall  f1-score   support\n",
      "\n",
      "           0       0.62      0.49      0.55       113\n",
      "           1       0.49      0.62      0.55        88\n",
      "\n",
      "    accuracy                           0.55       201\n",
      "   macro avg       0.56      0.56      0.55       201\n",
      "weighted avg       0.56      0.55      0.55       201\n",
      "\n",
      "Confusion Matrix: \n",
      " [[55 58]\n",
      " [33 55]]\n",
      "\n"
     ]
    }
   ],
   "source": [
    "from sklearn.ensemble import GradientBoostingClassifier\n",
    "\n",
    "\n",
    "#defining the classifier \n",
    "GradientBoostingClassifier =GradientBoostingClassifier()\n",
    "#fitting the model\n",
    "\n",
    "GradientBoostingClassifier.fit(X_train, y_train)\n",
    "#generating prediction\n",
    "\n",
    "y_pred = GradientBoostingClassifier.predict(X_test)\n",
    "#printing confusion matrix,classification report \n",
    "\n",
    "print(confusion_matrix(y_test, y_pred))\n",
    "print(classification_report(y_test, y_pred))\n",
    "print('Confusion Matrix: \\n', confusion_matrix(y_test,y_pred))\n",
    "print()\n"
   ]
  },
  {
   "cell_type": "code",
   "execution_count": 24,
   "metadata": {},
   "outputs": [
    {
     "name": "stdout",
     "output_type": "stream",
     "text": [
      "[0.53731343 0.58706468 0.6        0.575      0.61      ]\n",
      "0.5818756218905473\n"
     ]
    }
   ],
   "source": [
    "from sklearn.model_selection import cross_val_score\n",
    "\n",
    "\n",
    "# reduced,y will automatically devided by 5 folder, the scoring I will still use the accuracy\n",
    "scores = cross_val_score(GradientBoostingClassifier, reduced, y, cv=5, scoring='accuracy')\n",
    "# print all 5 times scores \n",
    "print(scores)\n",
    "\n",
    "# then I will do the average about these five scores to get more accuracy score.\n",
    "print(scores.mean())\n"
   ]
  },
  {
   "cell_type": "markdown",
   "metadata": {},
   "source": [
    "# 9.AdaBoost Classifier"
   ]
  },
  {
   "cell_type": "code",
   "execution_count": 25,
   "metadata": {},
   "outputs": [
    {
     "name": "stdout",
     "output_type": "stream",
     "text": [
      "[[64 49]\n",
      " [39 49]]\n",
      "              precision    recall  f1-score   support\n",
      "\n",
      "           0       0.62      0.57      0.59       113\n",
      "           1       0.50      0.56      0.53        88\n",
      "\n",
      "    accuracy                           0.56       201\n",
      "   macro avg       0.56      0.56      0.56       201\n",
      "weighted avg       0.57      0.56      0.56       201\n",
      "\n",
      "Confusion Matrix: \n",
      " [[64 49]\n",
      " [39 49]]\n",
      "\n"
     ]
    }
   ],
   "source": [
    "from sklearn.ensemble import AdaBoostClassifier\n",
    "#defining the classifier \n",
    "\n",
    "\n",
    "AdaBoostClassifier =AdaBoostClassifier()\n",
    "#fitting the model\n",
    "AdaBoostClassifier.fit(X_train, y_train)\n",
    "#generating prediction\n",
    "\n",
    "y_pred = AdaBoostClassifier.predict(X_test)\n",
    "#printing confusion matrix,classification report\n",
    "\n",
    "print(confusion_matrix(y_test, y_pred))\n",
    "print(classification_report(y_test, y_pred))\n",
    "print('Confusion Matrix: \\n', confusion_matrix(y_test,y_pred))\n",
    "print()\n"
   ]
  },
  {
   "cell_type": "code",
   "execution_count": 26,
   "metadata": {},
   "outputs": [
    {
     "name": "stdout",
     "output_type": "stream",
     "text": [
      "[0.56218905 0.60696517 0.605      0.555      0.565     ]\n",
      "0.5788308457711443\n"
     ]
    }
   ],
   "source": [
    "from sklearn.model_selection import cross_val_score\n",
    "\n",
    "\n",
    "# reduced,y will automatically devided by 5 folder, the scoring I will still use the accuracy\n",
    "scores = cross_val_score(AdaBoostClassifier, reduced, y, cv=5, scoring='accuracy')\n",
    "# print all 5 times scores \n",
    "print(scores)\n",
    "\n",
    "# then I will do the average about these five scores to get more accuracy score.\n",
    "print(scores.mean())\n"
   ]
  },
  {
   "cell_type": "markdown",
   "metadata": {},
   "source": [
    "# MODEL SELECTION"
   ]
  },
  {
   "cell_type": "markdown",
   "metadata": {},
   "source": [
    "Considering the top model by looking into all the models accuracy"
   ]
  },
  {
   "cell_type": "code",
   "execution_count": 27,
   "metadata": {},
   "outputs": [],
   "source": [
    "#packages for building the models\n",
    "from sklearn.naive_bayes import GaussianNB \n",
    "from sklearn.ensemble import AdaBoostClassifier\n",
    "from sklearn.ensemble import GradientBoostingClassifier\n",
    "from sklearn.svm import SVC\n",
    "from sklearn.linear_model import SGDClassifier\n",
    "from sklearn.linear_model import LogisticRegression\n",
    "from sklearn.ensemble import RandomForestClassifier\n",
    "from sklearn.tree import DecisionTreeClassifier\n",
    "from sklearn.neighbors import KNeighborsClassifier\n"
   ]
  },
  {
   "cell_type": "code",
   "execution_count": 28,
   "metadata": {},
   "outputs": [],
   "source": [
    "\n",
    "\n",
    "#building the more number of models to select one best model\n",
    "lr = LogisticRegression()\n",
    "nb = GaussianNB()\n",
    "knc = KNeighborsClassifier()\n",
    "svc = SVC()\n",
    "dtc = DecisionTreeClassifier()\n",
    "rfc = RandomForestClassifier()\n",
    "sgd = SGDClassifier()\n",
    "gbc = GradientBoostingClassifier()\n",
    "abc = AdaBoostClassifier()\n",
    "\n",
    "\n",
    "#defining all models\n",
    "models = {'Logistic Regression':lr, 'Naive Bayes classifier':nb, 'k-nearest neighbors':knc, \n",
    "          'Support Vector Machine':svc, 'Decision Tree Classifier':dtc, \n",
    "          'Random Forest Classifier':rfc,'Stochastic Gradient Descent':sgd, 'Gradient Boosting Classifier':gbc, 'AdaBoost Classifier':abc}"
   ]
  },
  {
   "cell_type": "code",
   "execution_count": 29,
   "metadata": {},
   "outputs": [],
   "source": [
    "\n",
    "\n",
    "#function for fitting and prediction for all the models\n",
    "def eval_model(model):\n",
    "    \n",
    "    model.fit(X_train, y_train)\n",
    "    y_pred = model.predict(X_test)\n",
    "    \n",
    "    test_accuracy = accuracy_score(y_test, y_pred)\n",
    "    conf_matrix = pd.DataFrame(confusion_matrix(y_test, y_pred))\n",
    "    return test_accuracy, conf_matrix"
   ]
  },
  {
   "cell_type": "code",
   "execution_count": 30,
   "metadata": {},
   "outputs": [
    {
     "name": "stdout",
     "output_type": "stream",
     "text": [
      "Logistic Regression ---> Test accuracy - 54.73%\n",
      "Naive Bayes classifier ---> Test accuracy - 61.19%\n",
      "k-nearest neighbors ---> Test accuracy - 57.21%\n",
      "Support Vector Machine ---> Test accuracy - 59.70%\n",
      "Decision Tree Classifier ---> Test accuracy - 54.73%\n",
      "Random Forest Classifier ---> Test accuracy - 63.18%\n",
      "Stochastic Gradient Descent ---> Test accuracy - 53.73%\n",
      "Gradient Boosting Classifier ---> Test accuracy - 55.22%\n",
      "AdaBoost Classifier ---> Test accuracy - 56.22%\n"
     ]
    }
   ],
   "source": [
    "np.random.seed(214)\n",
    "\n",
    "#test accuracies and confusion matrix for the models\n",
    "test_accuracies = []\n",
    "confusion_matrices = []\n",
    "for name, model in models.items():\n",
    "    test_acc, conf_matrix = eval_model(model) \n",
    "    test_accuracies.append(test_acc)\n",
    "    confusion_matrices.append(conf_matrix)\n",
    "    print(f'{name} ---> Test accuracy - {test_acc*100:.2f}%')\n",
    "    "
   ]
  },
  {
   "cell_type": "code",
   "execution_count": 31,
   "metadata": {},
   "outputs": [
    {
     "data": {
      "text/html": [
       "<div>\n",
       "<style scoped>\n",
       "    .dataframe tbody tr th:only-of-type {\n",
       "        vertical-align: middle;\n",
       "    }\n",
       "\n",
       "    .dataframe tbody tr th {\n",
       "        vertical-align: top;\n",
       "    }\n",
       "\n",
       "    .dataframe thead th {\n",
       "        text-align: right;\n",
       "    }\n",
       "</style>\n",
       "<table border=\"1\" class=\"dataframe\">\n",
       "  <thead>\n",
       "    <tr style=\"text-align: right;\">\n",
       "      <th></th>\n",
       "      <th>test_acc</th>\n",
       "    </tr>\n",
       "  </thead>\n",
       "  <tbody>\n",
       "    <tr>\n",
       "      <th>Logistic Regression</th>\n",
       "      <td>0.547264</td>\n",
       "    </tr>\n",
       "    <tr>\n",
       "      <th>Naive Bayes classifier</th>\n",
       "      <td>0.611940</td>\n",
       "    </tr>\n",
       "    <tr>\n",
       "      <th>k-nearest neighbors</th>\n",
       "      <td>0.572139</td>\n",
       "    </tr>\n",
       "    <tr>\n",
       "      <th>Support Vector Machine</th>\n",
       "      <td>0.597015</td>\n",
       "    </tr>\n",
       "    <tr>\n",
       "      <th>Decision Tree Classifier</th>\n",
       "      <td>0.547264</td>\n",
       "    </tr>\n",
       "    <tr>\n",
       "      <th>Random Forest Classifier</th>\n",
       "      <td>0.631841</td>\n",
       "    </tr>\n",
       "    <tr>\n",
       "      <th>Stochastic Gradient Descent</th>\n",
       "      <td>0.537313</td>\n",
       "    </tr>\n",
       "    <tr>\n",
       "      <th>Gradient Boosting Classifier</th>\n",
       "      <td>0.552239</td>\n",
       "    </tr>\n",
       "    <tr>\n",
       "      <th>AdaBoost Classifier</th>\n",
       "      <td>0.562189</td>\n",
       "    </tr>\n",
       "  </tbody>\n",
       "</table>\n",
       "</div>"
      ],
      "text/plain": [
       "                              test_acc\n",
       "Logistic Regression           0.547264\n",
       "Naive Bayes classifier        0.611940\n",
       "k-nearest neighbors           0.572139\n",
       "Support Vector Machine        0.597015\n",
       "Decision Tree Classifier      0.547264\n",
       "Random Forest Classifier      0.631841\n",
       "Stochastic Gradient Descent   0.537313\n",
       "Gradient Boosting Classifier  0.552239\n",
       "AdaBoost Classifier           0.562189"
      ]
     },
     "execution_count": 31,
     "metadata": {},
     "output_type": "execute_result"
    }
   ],
   "source": [
    "#Building one frame for all test accuracies\n",
    "results = pd.DataFrame(test_accuracies, index=list(models.keys()), columns=['test_acc'])\n",
    "results"
   ]
  },
  {
   "cell_type": "code",
   "execution_count": 32,
   "metadata": {},
   "outputs": [
    {
     "data": {
      "image/png": "[encoded data removed]",
      "text/plain": [
       "<Figure size 720x432 with 1 Axes>"
      ]
     },
     "metadata": {
      "needs_background": "light"
     },
     "output_type": "display_data"
    }
   ],
   "source": [
    "import seaborn as sns\n",
    "\n",
    "#Barplot for all the model accuracies\n",
    "plt.figure(figsize=(10, 6))\n",
    "sns.barplot(x ='test_acc', y=results.index, data=results)\n",
    "plt.title('Performance comparision')\n",
    "plt.show()"
   ]
  },
  {
   "cell_type": "code",
   "execution_count": 33,
   "metadata": {},
   "outputs": [],
   "source": [
    "import matplotlib.pyplot as plt\n",
    "\n",
    "#plotting confusion matrix for all the models\n",
    "def plot_confusion_matrices(models, confusion_matrices):\n",
    "    fig, axs = plt.subplots(2,4, figsize=(10,5)) \n",
    "\n",
    "    m = 0\n",
    "    for i, ax_r in enumerate(axs):\n",
    "        for j, ax in enumerate(ax_r):\n",
    "            sns.heatmap(confusion_matrices[m], annot=True, cbar=False, cmap='Blues', fmt='g', ax = ax)\n",
    "            ax.set_xlabel('Predicted label')\n",
    "            ax.set_ylabel('True label')\n",
    "            ax.set_title(f'{list(models.keys())[m]}', fontsize=12, fontweight='bold')\n",
    "            m += 1\n",
    "\n",
    "    plt.subplots_adjust(top=0.92, bottom=0.08, left=0.10, right=0.95, hspace=0.25,\n",
    "                        wspace=0.35)\n",
    "    plt.tight_layout()\n",
    "    plt.show()"
   ]
  },
  {
   "cell_type": "code",
   "execution_count": 34,
   "metadata": {},
   "outputs": [
    {
     "data": {
      "image/png": "[encoded data removed]",
      "text/plain": [
       "<Figure size 720x360 with 8 Axes>"
      ]
     },
     "metadata": {
      "needs_background": "light"
     },
     "output_type": "display_data"
    }
   ],
   "source": [
    "#plotting confusion matrix of all models\n",
    "plot_confusion_matrices(models, confusion_matrices)"
   ]
  },
  {
   "cell_type": "markdown",
   "metadata": {},
   "source": [
    "# Among all the models RANDOM FOREST Classifier have highest accuray\n"
   ]
  },
  {
   "cell_type": "markdown",
   "metadata": {},
   "source": [
    "# PART C: OPTIMIZATION PHASE"
   ]
  },
  {
   "cell_type": "markdown",
   "metadata": {},
   "source": [
    "Here I consider RANDOM FOREST for optimization of hyperparameters \n",
    "Hyper-parameter tuning refers to the automated optimization of an ML model's hyper-parameters. Hyper-parameters are all the parameters of a model that are not modified during the learning process and are used either to configure the model or the algorithm used to lower the cost function.\n",
    "\n",
    "I am tuning the model by using GridSearchCV"
   ]
  },
  {
   "cell_type": "markdown",
   "metadata": {},
   "source": [
    "I am initializing the parameters grid first,created random forest classifier model and setted up the grid search meta_estimator.\n",
    "Later training the grid search meta-estimator. After that taking the parameters and placing those parameters in the model and now tunning the  model. we can use the model to predict the data .so for predicting I applied X_test.\n",
    "Therefore the the model is optimized."
   ]
  },
  {
   "cell_type": "code",
   "execution_count": 35,
   "metadata": {},
   "outputs": [
    {
     "data": {
      "text/plain": [
       "{'bootstrap': True,\n",
       " 'ccp_alpha': 0.0,\n",
       " 'class_weight': None,\n",
       " 'criterion': 'gini',\n",
       " 'max_depth': None,\n",
       " 'max_features': 'auto',\n",
       " 'max_leaf_nodes': None,\n",
       " 'max_samples': None,\n",
       " 'min_impurity_decrease': 0.0,\n",
       " 'min_impurity_split': None,\n",
       " 'min_samples_leaf': 1,\n",
       " 'min_samples_split': 2,\n",
       " 'min_weight_fraction_leaf': 0.0,\n",
       " 'n_estimators': 100,\n",
       " 'n_jobs': None,\n",
       " 'oob_score': False,\n",
       " 'random_state': None,\n",
       " 'verbose': 0,\n",
       " 'warm_start': False}"
      ]
     },
     "execution_count": 35,
     "metadata": {},
     "output_type": "execute_result"
    }
   ],
   "source": [
    "#showing the parameters of the random_forest model\n",
    "random_forest.get_params()\n"
   ]
  },
  {
   "cell_type": "code",
   "execution_count": 36,
   "metadata": {},
   "outputs": [],
   "source": [
    "#hyperparameter optimization\n",
    "#APPLYING TUNING FOR THE RANDOM FOREST USING GRIDSEARCHCV\n",
    "rf_grid = RandomForestClassifier(random_state=2) # creates a new estimator\n",
    "\n",
    "\n"
   ]
  },
  {
   "cell_type": "code",
   "execution_count": 37,
   "metadata": {},
   "outputs": [],
   "source": [
    "# Create the parameter grid \n",
    "rf_param_grid = {'criterion' : ['gini', 'entropy'],\n",
    "              'min_samples_leaf': [1, 2, 3],\n",
    "              'min_samples_split': [2, 3, 5, 10],\n",
    "              'n_estimators': [100, 300, 500]}\n",
    "\n"
   ]
  },
  {
   "cell_type": "code",
   "execution_count": 38,
   "metadata": {},
   "outputs": [],
   "source": [
    "# Instantiate the grid search model (n_jobs = -1 sets to use the max number of processors)\n",
    "rf_grid_search = GridSearchCV(estimator=rf_grid, param_grid=rf_param_grid, cv=3, scoring='accuracy', n_jobs=-1, verbose=2)\n",
    "\n"
   ]
  },
  {
   "cell_type": "code",
   "execution_count": 39,
   "metadata": {},
   "outputs": [
    {
     "name": "stdout",
     "output_type": "stream",
     "text": [
      "Fitting 3 folds for each of 72 candidates, totalling 216 fits\n"
     ]
    },
    {
     "name": "stderr",
     "output_type": "stream",
     "text": [
      "[Parallel(n_jobs=-1)]: Using backend LokyBackend with 8 concurrent workers.\n",
      "[Parallel(n_jobs=-1)]: Done  25 tasks      | elapsed:    6.8s\n",
      "[Parallel(n_jobs=-1)]: Done 146 tasks      | elapsed:   33.3s\n",
      "[Parallel(n_jobs=-1)]: Done 216 out of 216 | elapsed:   52.9s finished\n"
     ]
    },
    {
     "data": {
      "text/plain": [
       "GridSearchCV(cv=3, error_score=nan,\n",
       "             estimator=RandomForestClassifier(bootstrap=True, ccp_alpha=0.0,\n",
       "                                              class_weight=None,\n",
       "                                              criterion='gini', max_depth=None,\n",
       "                                              max_features='auto',\n",
       "                                              max_leaf_nodes=None,\n",
       "                                              max_samples=None,\n",
       "                                              min_impurity_decrease=0.0,\n",
       "                                              min_impurity_split=None,\n",
       "                                              min_samples_leaf=1,\n",
       "                                              min_samples_split=2,\n",
       "                                              min_weight_fraction_leaf=0.0,\n",
       "                                              n_estimators=100, n_jobs=None,\n",
       "                                              oob_score=False, random_state=2,\n",
       "                                              verbose=0, warm_start=False),\n",
       "             iid='deprecated', n_jobs=-1,\n",
       "             param_grid={'criterion': ['gini', 'entropy'],\n",
       "                         'min_samples_leaf': [1, 2, 3],\n",
       "                         'min_samples_split': [2, 3, 5, 10],\n",
       "                         'n_estimators': [100, 300, 500]},\n",
       "             pre_dispatch='2*n_jobs', refit=True, return_train_score=False,\n",
       "             scoring='accuracy', verbose=2)"
      ]
     },
     "execution_count": 39,
     "metadata": {},
     "output_type": "execute_result"
    }
   ],
   "source": [
    "#training the model\n",
    "rf_grid_search.fit(X_train, y_train)\n"
   ]
  },
  {
   "cell_type": "code",
   "execution_count": 40,
   "metadata": {},
   "outputs": [
    {
     "data": {
      "text/plain": [
       "{'criterion': 'entropy',\n",
       " 'min_samples_leaf': 2,\n",
       " 'min_samples_split': 10,\n",
       " 'n_estimators': 100}"
      ]
     },
     "execution_count": 40,
     "metadata": {},
     "output_type": "execute_result"
    }
   ],
   "source": [
    "rf_grid_search.best_params_"
   ]
  },
  {
   "cell_type": "code",
   "execution_count": 41,
   "metadata": {},
   "outputs": [
    {
     "name": "stdout",
     "output_type": "stream",
     "text": [
      "[[69 44]\n",
      " [28 60]]\n",
      "              precision    recall  f1-score   support\n",
      "\n",
      "           0       0.71      0.61      0.66       113\n",
      "           1       0.58      0.68      0.62        88\n",
      "\n",
      "    accuracy                           0.64       201\n",
      "   macro avg       0.64      0.65      0.64       201\n",
      "weighted avg       0.65      0.64      0.64       201\n",
      "\n",
      "Confusion Matrix: \n",
      " [[69 44]\n",
      " [28 60]]\n",
      "\n",
      "Accuracy:  0.6417910447761194\n"
     ]
    }
   ],
   "source": [
    "\n",
    "#optimising the model\n",
    "from sklearn.ensemble import RandomForestClassifier\n",
    "#defining classifier with the best parameters\n",
    "random_forest1 =RandomForestClassifier(criterion= 'entropy',\n",
    " min_samples_leaf= 2,\n",
    " min_samples_split= 10,\n",
    " n_estimators= 100)\n",
    "#fitting the model\n",
    "random_forest1.fit(X_train, y_train)\n",
    "#generating prediction\n",
    "y_pred = random_forest1.predict(X_test)\n",
    "\n",
    "#printing confusion matrix,classification report and accuracy\n",
    "print(confusion_matrix(y_test, y_pred))\n",
    "print(classification_report(y_test, y_pred))\n",
    "print('Confusion Matrix: \\n', confusion_matrix(y_test,y_pred))\n",
    "print()\n",
    "print('Accuracy: ', accuracy_score(y_test,y_pred))\n"
   ]
  },
  {
   "cell_type": "code",
   "execution_count": 42,
   "metadata": {},
   "outputs": [
    {
     "name": "stdout",
     "output_type": "stream",
     "text": [
      "[1 0 0 0 1 1 0 0 0 0 1 0 0 1 0 0 1 1 1 0 0 0 1 0 1 1 1 1 0 1 0 0 0 1 0 0 0\n",
      " 1 0 1 1 1 0 1 0 0 1 1 0 1 1 1 1 0 0 1 0 1 1 0 0 1 0 1 0 0 1 0 0 0 1 1 0 1\n",
      " 1 0 0 0 0 1 0 1 0 1 1 0 1 0 0 1 0 1 0 0 1 1 1 1 1 1 1 0 0 0 0 1 1 1 1 1 1\n",
      " 1 0 0 1 0 1 1 1 1 0 0 1 0 1 0 1 0 0 1 0 0 0 0 1 0 1 0 1 1 1 1 0 0 1 1 1 1\n",
      " 1 0 1 1 1 0 0 0 0 0 1 1 0 0 0 1 0 0 1 1 0 1 1 0 0 1 1 0 0 0 1 0 1 1 1 1 1\n",
      " 0 0 1 1 1 1 0 0 1 1 1 1 0 0 1 0]\n"
     ]
    }
   ],
   "source": [
    "# generating  predictions \n",
    "rf_prediction = random_forest1.predict(X_test)\n",
    "print(rf_prediction)\n",
    "\n"
   ]
  },
  {
   "cell_type": "code",
   "execution_count": 43,
   "metadata": {},
   "outputs": [
    {
     "name": "stdout",
     "output_type": "stream",
     "text": [
      "              precision    recall  f1-score   support\n",
      "\n",
      "           0       0.71      0.61      0.66       113\n",
      "           1       0.58      0.68      0.62        88\n",
      "\n",
      "    accuracy                           0.64       201\n",
      "   macro avg       0.64      0.65      0.64       201\n",
      "weighted avg       0.65      0.64      0.64       201\n",
      "\n"
     ]
    }
   ],
   "source": [
    "#classification report\n",
    "print(classification_report(y_test,rf_prediction))"
   ]
  },
  {
   "cell_type": "code",
   "execution_count": 44,
   "metadata": {},
   "outputs": [
    {
     "name": "stdout",
     "output_type": "stream",
     "text": [
      "Confusion Matrix: \n",
      " [[69 44]\n",
      " [28 60]]\n"
     ]
    }
   ],
   "source": [
    "#confusin matrix\n",
    "print('Confusion Matrix: \\n', confusion_matrix(y_test,rf_prediction))\n"
   ]
  },
  {
   "cell_type": "code",
   "execution_count": 45,
   "metadata": {},
   "outputs": [
    {
     "name": "stdout",
     "output_type": "stream",
     "text": [
      "Accuracy:  0.6417910447761194\n"
     ]
    }
   ],
   "source": [
    "#printing accuracy\n",
    "print('Accuracy: ', accuracy_score(y_test,rf_prediction))"
   ]
  },
  {
   "cell_type": "code",
   "execution_count": 46,
   "metadata": {},
   "outputs": [
    {
     "data": {
      "text/plain": [
       "0.6462188254223652"
      ]
     },
     "execution_count": 46,
     "metadata": {},
     "output_type": "execute_result"
    }
   ],
   "source": [
    "#printing the roc_accuracy_score\n",
    "from sklearn.metrics import roc_auc_score\n",
    "roc_auc_score(y_test, rf_prediction)"
   ]
  },
  {
   "cell_type": "markdown",
   "metadata": {},
   "source": [
    "The accuracy for the tunned random forest model is 64.62% \n",
    "\n",
    "The accuracy for the random forest model before tunning is 63.18%"
   ]
  },
  {
   "cell_type": "markdown",
   "metadata": {},
   "source": [
    "Here I followed the same procedure that I used for loading the train data.\n",
    "I have intiliazed two empty lists they are loaded_images and categories.In loaded_images i will be importing all the given images in the test dataset and categories have the names of dog and cat. I splitted the data and assigned that if the category is dog I assigned value 1 and if it is cat I assigned value 0. I read the images by using cv.imread,resized the data by using cv.resize(), normalised the data by using cv.normalise() function. And then flattened the images using flatten() function. After reading the images and categories I created a dataframe by using pandas. I assigned loaded_images to the variable filename and categories to category and the name of the dataframe is cat_dog_test\n",
    "\n"
   ]
  },
  {
   "cell_type": "code",
   "execution_count": 47,
   "metadata": {},
   "outputs": [],
   "source": [
    "#LOADING TEST DATA"
   ]
  },
  {
   "cell_type": "code",
   "execution_count": 55,
   "metadata": {},
   "outputs": [
    {
     "name": "stdout",
     "output_type": "stream",
     "text": [
      ">loaded 1.jpg (499, 381, 3)\n",
      "resize dim: (350, 350, 3)\n",
      "Resized Dimensions :  (367500,)\n",
      ">loaded 10.jpg (374, 500, 3)\n",
      "resize dim: (350, 350, 3)\n",
      "Resized Dimensions :  (367500,)\n",
      ">loaded 100.jpg (343, 499, 3)\n",
      "resize dim: (350, 350, 3)\n",
      "Resized Dimensions :  (367500,)\n",
      ">loaded 11.jpg (370, 278, 3)\n",
      "resize dim: (350, 350, 3)\n",
      "Resized Dimensions :  (367500,)\n",
      ">loaded 12.jpg (465, 315, 3)\n",
      "resize dim: (350, 350, 3)\n",
      "Resized Dimensions :  (367500,)\n",
      ">loaded 13.jpg (376, 500, 3)\n",
      "resize dim: (350, 350, 3)\n",
      "Resized Dimensions :  (367500,)\n",
      ">loaded 14.jpg (293, 500, 3)\n",
      "resize dim: (350, 350, 3)\n",
      "Resized Dimensions :  (367500,)\n",
      ">loaded 15.jpg (499, 377, 3)\n",
      "resize dim: (350, 350, 3)\n",
      "Resized Dimensions :  (367500,)\n",
      ">loaded 16.jpg (374, 500, 3)\n",
      "resize dim: (350, 350, 3)\n",
      "Resized Dimensions :  (367500,)\n",
      ">loaded 17.jpg (399, 228, 3)\n",
      "resize dim: (350, 350, 3)\n",
      "Resized Dimensions :  (367500,)\n",
      ">loaded 18.jpg (459, 499, 3)\n",
      "resize dim: (350, 350, 3)\n",
      "Resized Dimensions :  (367500,)\n",
      ">loaded 19.jpg (272, 328, 3)\n",
      "resize dim: (350, 350, 3)\n",
      "Resized Dimensions :  (367500,)\n",
      ">loaded 2.jpg (299, 296, 3)\n",
      "resize dim: (350, 350, 3)\n",
      "Resized Dimensions :  (367500,)\n",
      ">loaded 20.jpg (232, 356, 3)\n",
      "resize dim: (350, 350, 3)\n",
      "Resized Dimensions :  (367500,)\n",
      ">loaded 21.jpg (450, 443, 3)\n",
      "resize dim: (350, 350, 3)\n",
      "Resized Dimensions :  (367500,)\n",
      ">loaded 22.jpg (255, 384, 3)\n",
      "resize dim: (350, 350, 3)\n",
      "Resized Dimensions :  (367500,)\n",
      ">loaded 23.jpg (252, 377, 3)\n",
      "resize dim: (350, 350, 3)\n",
      "Resized Dimensions :  (367500,)\n",
      ">loaded 24.jpg (500, 393, 3)\n",
      "resize dim: (350, 350, 3)\n",
      "Resized Dimensions :  (367500,)\n",
      ">loaded 25.jpg (294, 499, 3)\n",
      "resize dim: (350, 350, 3)\n",
      "Resized Dimensions :  (367500,)\n",
      ">loaded 26.jpg (265, 480, 3)\n",
      "resize dim: (350, 350, 3)\n",
      "Resized Dimensions :  (367500,)\n",
      ">loaded 27.jpg (375, 499, 3)\n",
      "resize dim: (350, 350, 3)\n",
      "Resized Dimensions :  (367500,)\n",
      ">loaded 28.jpg (500, 499, 3)\n",
      "resize dim: (350, 350, 3)\n",
      "Resized Dimensions :  (367500,)\n",
      ">loaded 29.jpg (365, 500, 3)\n",
      "resize dim: (350, 350, 3)\n",
      "Resized Dimensions :  (367500,)\n",
      ">loaded 3.jpg (299, 300, 3)\n",
      "resize dim: (350, 350, 3)\n",
      "Resized Dimensions :  (367500,)\n",
      ">loaded 30.jpg (500, 340, 3)\n",
      "resize dim: (350, 350, 3)\n",
      "Resized Dimensions :  (367500,)\n",
      ">loaded 31.jpg (364, 224, 3)\n",
      "resize dim: (350, 350, 3)\n",
      "Resized Dimensions :  (367500,)\n",
      ">loaded 32.jpg (288, 383, 3)\n",
      "resize dim: (350, 350, 3)\n",
      "Resized Dimensions :  (367500,)\n",
      ">loaded 33.jpg (380, 499, 3)\n",
      "resize dim: (350, 350, 3)\n",
      "Resized Dimensions :  (367500,)\n",
      ">loaded 34.jpg (375, 499, 3)\n",
      "resize dim: (350, 350, 3)\n",
      "Resized Dimensions :  (367500,)\n",
      ">loaded 35.jpg (278, 149, 3)\n",
      "resize dim: (350, 350, 3)\n",
      "Resized Dimensions :  (367500,)\n",
      ">loaded 36.jpg (375, 499, 3)\n",
      "resize dim: (350, 350, 3)\n",
      "Resized Dimensions :  (367500,)\n",
      ">loaded 37.jpg (387, 500, 3)\n",
      "resize dim: (350, 350, 3)\n",
      "Resized Dimensions :  (367500,)\n",
      ">loaded 38.jpg (119, 150, 3)\n",
      "resize dim: (350, 350, 3)\n",
      "Resized Dimensions :  (367500,)\n",
      ">loaded 39.jpg (375, 499, 3)\n",
      "resize dim: (350, 350, 3)\n",
      "Resized Dimensions :  (367500,)\n",
      ">loaded 4.jpg (288, 374, 3)\n",
      "resize dim: (350, 350, 3)\n",
      "Resized Dimensions :  (367500,)\n",
      ">loaded 40.jpg (312, 499, 3)\n",
      "resize dim: (350, 350, 3)\n",
      "Resized Dimensions :  (367500,)\n",
      ">loaded 41.jpg (375, 499, 3)\n",
      "resize dim: (350, 350, 3)\n",
      "Resized Dimensions :  (367500,)\n",
      ">loaded 42.jpg (400, 369, 3)\n",
      "resize dim: (350, 350, 3)\n",
      "Resized Dimensions :  (367500,)\n",
      ">loaded 43.jpg (374, 500, 3)\n",
      "resize dim: (350, 350, 3)\n",
      "Resized Dimensions :  (367500,)\n",
      ">loaded 44.jpg (240, 227, 3)\n",
      "resize dim: (350, 350, 3)\n",
      "Resized Dimensions :  (367500,)\n",
      ">loaded 45.jpg (400, 399, 3)\n",
      "resize dim: (350, 350, 3)\n",
      "Resized Dimensions :  (367500,)\n",
      ">loaded 46.jpg (50, 41, 3)\n",
      "resize dim: (350, 350, 3)\n",
      "Resized Dimensions :  (367500,)\n",
      ">loaded 47.jpg (300, 399, 3)\n",
      "resize dim: (350, 350, 3)\n",
      "Resized Dimensions :  (367500,)\n",
      ">loaded 48.jpg (450, 342, 3)\n",
      "resize dim: (350, 350, 3)\n",
      "Resized Dimensions :  (367500,)\n",
      ">loaded 49.jpg (500, 399, 3)\n",
      "resize dim: (350, 350, 3)\n",
      "Resized Dimensions :  (367500,)\n",
      ">loaded 5.jpg (400, 399, 3)\n",
      "resize dim: (350, 350, 3)\n",
      "Resized Dimensions :  (367500,)\n",
      ">loaded 50.jpg (308, 368, 3)\n",
      "resize dim: (350, 350, 3)\n",
      "Resized Dimensions :  (367500,)\n",
      ">loaded 51.jpg (375, 499, 3)\n",
      "resize dim: (350, 350, 3)\n",
      "Resized Dimensions :  (367500,)\n",
      ">loaded 52.jpg (374, 500, 3)\n",
      "resize dim: (350, 350, 3)\n",
      "Resized Dimensions :  (367500,)\n",
      ">loaded 53.jpg (499, 438, 3)\n",
      "resize dim: (350, 350, 3)\n",
      "Resized Dimensions :  (367500,)\n",
      ">loaded 54.jpg (321, 500, 3)\n",
      "resize dim: (350, 350, 3)\n",
      "Resized Dimensions :  (367500,)\n",
      ">loaded 55.jpg (348, 500, 3)\n",
      "resize dim: (350, 350, 3)\n",
      "Resized Dimensions :  (367500,)\n",
      ">loaded 56.jpg (369, 416, 3)\n",
      "resize dim: (350, 350, 3)\n",
      "Resized Dimensions :  (367500,)\n",
      ">loaded 57.jpg (197, 189, 3)\n",
      "resize dim: (350, 350, 3)\n",
      "Resized Dimensions :  (367500,)\n",
      ">loaded 58.jpg (349, 350, 3)\n",
      "resize dim: (350, 350, 3)\n",
      "Resized Dimensions :  (367500,)\n",
      ">loaded 59.jpg (199, 190, 3)\n",
      "resize dim: (350, 350, 3)\n",
      "Resized Dimensions :  (367500,)\n",
      ">loaded 6.jpg (375, 499, 3)\n",
      "resize dim: (350, 350, 3)\n",
      "Resized Dimensions :  (367500,)\n",
      ">loaded 60.jpg (336, 447, 3)\n",
      "resize dim: (350, 350, 3)\n",
      "Resized Dimensions :  (367500,)\n",
      ">loaded 61.jpg (374, 500, 3)\n",
      "resize dim: (350, 350, 3)\n",
      "Resized Dimensions :  (367500,)\n",
      ">loaded 62.jpg (239, 320, 3)\n",
      "resize dim: (350, 350, 3)\n",
      "Resized Dimensions :  (367500,)\n",
      ">loaded 63.jpg (303, 200, 3)\n",
      "resize dim: (350, 350, 3)\n",
      "Resized Dimensions :  (367500,)\n",
      ">loaded 64.jpg (374, 500, 3)\n",
      "resize dim: (350, 350, 3)\n",
      "Resized Dimensions :  (367500,)\n",
      ">loaded 65.jpg (357, 500, 3)\n",
      "resize dim: (350, 350, 3)\n",
      "Resized Dimensions :  (367500,)\n",
      ">loaded 66.jpg (341, 432, 3)\n",
      "resize dim: (350, 350, 3)\n",
      "Resized Dimensions :  (367500,)\n",
      ">loaded 67.jpg (499, 310, 3)\n",
      "resize dim: (350, 350, 3)\n",
      "Resized Dimensions :  (367500,)\n",
      ">loaded 68.jpg (475, 372, 3)\n",
      "resize dim: (350, 350, 3)\n",
      "Resized Dimensions :  (367500,)\n",
      ">loaded 69.jpg (221, 319, 3)\n",
      "resize dim: (350, 350, 3)\n",
      "Resized Dimensions :  (367500,)\n",
      ">loaded 7.jpg (148, 192, 3)\n",
      "resize dim: (350, 350, 3)\n",
      "Resized Dimensions :  (367500,)\n",
      ">loaded 70.jpg (376, 499, 3)\n",
      "resize dim: (350, 350, 3)\n",
      "Resized Dimensions :  (367500,)\n",
      ">loaded 71.jpg (301, 384, 3)\n",
      "resize dim: (350, 350, 3)\n",
      "Resized Dimensions :  (367500,)\n",
      ">loaded 72.jpg (267, 399, 3)\n",
      "resize dim: (350, 350, 3)\n",
      "Resized Dimensions :  (367500,)\n",
      ">loaded 73.jpg (499, 356, 3)\n",
      "resize dim: (350, 350, 3)\n",
      "Resized Dimensions :  (367500,)\n",
      ">loaded 74.jpg (347, 500, 3)\n",
      "resize dim: (350, 350, 3)\n",
      "Resized Dimensions :  (367500,)\n",
      ">loaded 75.jpg (499, 375, 3)\n",
      "resize dim: (350, 350, 3)\n",
      "Resized Dimensions :  (367500,)\n",
      ">loaded 76.jpg (360, 479, 3)\n",
      "resize dim: (350, 350, 3)\n",
      "Resized Dimensions :  (367500,)\n",
      ">loaded 77.jpg (500, 337, 3)\n",
      "resize dim: (350, 350, 3)\n",
      "Resized Dimensions :  (367500,)\n",
      ">loaded 78.jpg (374, 500, 3)\n",
      "resize dim: (350, 350, 3)\n",
      "Resized Dimensions :  (367500,)\n",
      ">loaded 79.jpg (374, 500, 3)\n",
      "resize dim: (350, 350, 3)\n",
      "Resized Dimensions :  (367500,)\n",
      ">loaded 8.jpg (234, 325, 3)\n",
      "resize dim: (350, 350, 3)\n",
      "Resized Dimensions :  (367500,)\n",
      ">loaded 80.jpg (373, 500, 3)\n",
      "resize dim: (350, 350, 3)\n",
      "Resized Dimensions :  (367500,)\n",
      ">loaded 81.jpg (375, 499, 3)\n",
      "resize dim: (350, 350, 3)\n",
      "Resized Dimensions :  (367500,)\n",
      ">loaded 82.jpg (500, 331, 3)\n",
      "resize dim: (350, 350, 3)\n",
      "Resized Dimensions :  (367500,)\n",
      ">loaded 83.jpg (499, 405, 3)\n",
      "resize dim: (350, 350, 3)\n",
      "Resized Dimensions :  (367500,)\n",
      ">loaded 84.jpg (429, 295, 3)\n",
      "resize dim: (350, 350, 3)\n",
      "Resized Dimensions :  (367500,)\n",
      ">loaded 85.jpg (375, 499, 3)\n",
      "resize dim: (350, 350, 3)\n",
      "Resized Dimensions :  (367500,)\n",
      ">loaded 86.jpg (150, 93, 3)\n",
      "resize dim: (350, 350, 3)\n",
      "Resized Dimensions :  (367500,)\n",
      ">loaded 87.jpg (375, 499, 3)\n",
      "resize dim: (350, 350, 3)\n",
      "Resized Dimensions :  (367500,)\n",
      ">loaded 88.jpg (200, 176, 3)\n",
      "resize dim: (350, 350, 3)\n",
      "Resized Dimensions :  (367500,)\n",
      ">loaded 89.jpg (333, 499, 3)\n",
      "resize dim: (350, 350, 3)\n",
      "Resized Dimensions :  (367500,)\n",
      ">loaded 9.jpg (380, 480, 3)\n",
      "resize dim: (350, 350, 3)\n",
      "Resized Dimensions :  (367500,)\n",
      ">loaded 90.jpg (318, 325, 3)\n",
      "resize dim: (350, 350, 3)\n",
      "Resized Dimensions :  (367500,)\n",
      ">loaded 91.jpg (270, 500, 3)\n",
      "resize dim: (350, 350, 3)\n",
      "Resized Dimensions :  (367500,)\n",
      ">loaded 92.jpg (450, 418, 3)\n",
      "resize dim: (350, 350, 3)\n",
      "Resized Dimensions :  (367500,)\n",
      ">loaded 93.jpg (374, 500, 3)\n",
      "resize dim: (350, 350, 3)\n",
      "Resized Dimensions :  (367500,)\n",
      ">loaded 94.jpg (299, 190, 3)\n",
      "resize dim: (350, 350, 3)\n",
      "Resized Dimensions :  (367500,)\n",
      ">loaded 95.jpg (363, 500, 3)\n",
      "resize dim: (350, 350, 3)\n",
      "Resized Dimensions :  (367500,)\n",
      ">loaded 96.jpg (332, 500, 3)\n",
      "resize dim: (350, 350, 3)\n",
      "Resized Dimensions :  (367500,)\n",
      ">loaded 97.jpg (375, 499, 3)\n",
      "resize dim: (350, 350, 3)\n",
      "Resized Dimensions :  (367500,)\n",
      ">loaded 98.jpg (467, 499, 3)\n",
      "resize dim: (350, 350, 3)\n",
      "Resized Dimensions :  (367500,)\n",
      ">loaded 99.jpg (441, 499, 3)\n",
      "resize dim: (350, 350, 3)\n",
      "Resized Dimensions :  (367500,)\n"
     ]
    }
   ],
   "source": [
    "# for loading all image in a list\n",
    "loaded_images=[]\n",
    "# for loading all categories in a list\n",
    "categories = []\n",
    "# for loading all normalize images\n",
    "nor_image=[]\n",
    "filenames = os.listdir(\"F:/AML3/Project3_files/data/test\")\n",
    "for filename in listdir(\"F:/AML3/Project3_files/data/test\"):\n",
    "   \n",
    "   \n",
    "    category = filename.split('.')[0]\n",
    "    \n",
    "    #assigning labels if it id dog i assigned label 1 else 0  i.e for cat\n",
    "    if category == 'dog':\n",
    "        categories.append(1)\n",
    "    else:\n",
    "        categories.append(0)\n",
    "\n",
    "\n",
    "     #loading the images\n",
    "    img_data= cv.imread(\"F:/AML3/Project3_files/data/test/\"+filename)\n",
    "    \n",
    "    #resizing the images by 350*350\n",
    "    res = cv.resize(img_data,(350, 350),interpolation = cv.INTER_AREA)\n",
    "    \n",
    "    #normalizing the images\n",
    "    norm_image = cv.normalize(res, None, alpha=0, beta=1, norm_type=cv.NORM_MINMAX, dtype=cv.CV_32F)\n",
    "    \n",
    "    #appending the norm_images\n",
    "    nor_image.append(norm_image)\n",
    "    \n",
    "    #flattening the images\n",
    "    res2=norm_image.flatten()\n",
    "    \n",
    "    #appending the images   \n",
    "    loaded_images.append(res2)\n",
    "   \n",
    "    print('>loaded %s %s' %(filename,img_data.shape))\n",
    "    print('resize dim:', res.shape)\n",
    "    print('Resized Dimensions : ',res2.shape)\n"
   ]
  },
  {
   "cell_type": "code",
   "execution_count": 49,
   "metadata": {},
   "outputs": [
    {
     "data": {
      "text/html": [
       "<div>\n",
       "<style scoped>\n",
       "    .dataframe tbody tr th:only-of-type {\n",
       "        vertical-align: middle;\n",
       "    }\n",
       "\n",
       "    .dataframe tbody tr th {\n",
       "        vertical-align: top;\n",
       "    }\n",
       "\n",
       "    .dataframe thead th {\n",
       "        text-align: right;\n",
       "    }\n",
       "</style>\n",
       "<table border=\"1\" class=\"dataframe\">\n",
       "  <thead>\n",
       "    <tr style=\"text-align: right;\">\n",
       "      <th></th>\n",
       "      <th>filename</th>\n",
       "      <th>category</th>\n",
       "    </tr>\n",
       "  </thead>\n",
       "  <tbody>\n",
       "    <tr>\n",
       "      <th>0</th>\n",
       "      <td>1.jpg</td>\n",
       "      <td>0</td>\n",
       "    </tr>\n",
       "    <tr>\n",
       "      <th>1</th>\n",
       "      <td>10.jpg</td>\n",
       "      <td>0</td>\n",
       "    </tr>\n",
       "    <tr>\n",
       "      <th>2</th>\n",
       "      <td>100.jpg</td>\n",
       "      <td>0</td>\n",
       "    </tr>\n",
       "    <tr>\n",
       "      <th>3</th>\n",
       "      <td>11.jpg</td>\n",
       "      <td>0</td>\n",
       "    </tr>\n",
       "    <tr>\n",
       "      <th>4</th>\n",
       "      <td>12.jpg</td>\n",
       "      <td>0</td>\n",
       "    </tr>\n",
       "    <tr>\n",
       "      <th>...</th>\n",
       "      <td>...</td>\n",
       "      <td>...</td>\n",
       "    </tr>\n",
       "    <tr>\n",
       "      <th>95</th>\n",
       "      <td>95.jpg</td>\n",
       "      <td>0</td>\n",
       "    </tr>\n",
       "    <tr>\n",
       "      <th>96</th>\n",
       "      <td>96.jpg</td>\n",
       "      <td>0</td>\n",
       "    </tr>\n",
       "    <tr>\n",
       "      <th>97</th>\n",
       "      <td>97.jpg</td>\n",
       "      <td>0</td>\n",
       "    </tr>\n",
       "    <tr>\n",
       "      <th>98</th>\n",
       "      <td>98.jpg</td>\n",
       "      <td>0</td>\n",
       "    </tr>\n",
       "    <tr>\n",
       "      <th>99</th>\n",
       "      <td>99.jpg</td>\n",
       "      <td>0</td>\n",
       "    </tr>\n",
       "  </tbody>\n",
       "</table>\n",
       "<p>100 rows × 2 columns</p>\n",
       "</div>"
      ],
      "text/plain": [
       "   filename  category\n",
       "0     1.jpg         0\n",
       "1    10.jpg         0\n",
       "2   100.jpg         0\n",
       "3    11.jpg         0\n",
       "4    12.jpg         0\n",
       "..      ...       ...\n",
       "95   95.jpg         0\n",
       "96   96.jpg         0\n",
       "97   97.jpg         0\n",
       "98   98.jpg         0\n",
       "99   99.jpg         0\n",
       "\n",
       "[100 rows x 2 columns]"
      ]
     },
     "execution_count": 49,
     "metadata": {},
     "output_type": "execute_result"
    }
   ],
   "source": [
    "# creating pandas dataframe for files and categories\n",
    "cat_dog_test = pd.DataFrame({\n",
    "    'filename': filenames,\n",
    "    'category': categories\n",
    "})\n",
    "\n",
    "#printing the dataframe\n",
    "cat_dog_test"
   ]
  },
  {
   "cell_type": "markdown",
   "metadata": {},
   "source": [
    "Here I am converting the loaded_images and categories in to numpy arrays, assigning the loaded_images in to variable X1 and categories into variable y1 "
   ]
  },
  {
   "cell_type": "code",
   "execution_count": 50,
   "metadata": {},
   "outputs": [],
   "source": [
    "#converting images in to numpy array\n",
    "X1 = np.array(loaded_images)\n",
    "\n",
    "#converting the categories in to numpy array\n",
    "y1=np.array(categories)"
   ]
  },
  {
   "cell_type": "markdown",
   "metadata": {},
   "source": [
    "\n",
    "I used PCA() fuction which is available in sklearn.decomposition.For the n_components I have assigned the value 25.\n"
   ]
  },
  {
   "cell_type": "code",
   "execution_count": 51,
   "metadata": {},
   "outputs": [
    {
     "data": {
      "text/plain": [
       "(100, 25)"
      ]
     },
     "execution_count": 51,
     "metadata": {},
     "output_type": "execute_result"
    }
   ],
   "source": [
    "#performing the PCA for the test data\n",
    "from sklearn.decomposition import PCA\n",
    "\n",
    "#setting n_components=25\n",
    "pca = PCA(n_components = 25)\n",
    "\n",
    "#fitting the loaded_images \n",
    "pca.fit(X1)\n",
    "\n",
    "#transforming the loaded_images\n",
    "reduced1=pca.transform(X1)\n",
    "\n",
    "#shape of the reduced data\n",
    "reduced1.shape"
   ]
  },
  {
   "cell_type": "code",
   "execution_count": 52,
   "metadata": {},
   "outputs": [
    {
     "data": {
      "text/plain": [
       "array([[ -27.952953  ,   55.368565  ,   43.239765  , ...,  -15.243362  ,\n",
       "         -17.347721  ,   17.606169  ],\n",
       "       [-118.86454   ,   43.326157  ,   17.6189    , ...,   -1.5532073 ,\n",
       "          -3.5480213 ,   -2.718495  ],\n",
       "       [ -52.59521   ,   68.69742   ,   79.97213   , ...,    5.909188  ,\n",
       "          18.434408  ,    3.0016186 ],\n",
       "       ...,\n",
       "       [ -26.93524   ,  -58.110443  ,   55.621574  , ...,    1.0704032 ,\n",
       "          -6.536805  ,   -0.83541644],\n",
       "       [  96.33468   ,  -18.432451  ,   48.42176   , ...,   -1.1184984 ,\n",
       "           1.8820492 ,    0.666781  ],\n",
       "       [ -17.885504  ,   70.606155  ,   47.13519   , ...,   13.229693  ,\n",
       "          37.9933    ,  -11.103969  ]], dtype=float32)"
      ]
     },
     "execution_count": 52,
     "metadata": {},
     "output_type": "execute_result"
    }
   ],
   "source": [
    "#printing the reduced data\n",
    "reduced1 "
   ]
  },
  {
   "cell_type": "markdown",
   "metadata": {},
   "source": [
    "I am using the tuned random forest model to predict the test dataset. So I am considering the pre-processed test data i.e after applying PCA and predicting the data."
   ]
  },
  {
   "cell_type": "code",
   "execution_count": 53,
   "metadata": {},
   "outputs": [
    {
     "name": "stdout",
     "output_type": "stream",
     "text": [
      "[0 1 1 1 1 0 1 0 1 0 1 0 1 0 1 1 1 1 0 1 1 0 1 1 0 1 0 1 0 0 0 1 0 0 1 1 0\n",
      " 1 0 0 1 1 0 1 0 0 1 1 0 0 0 0 1 1 0 0 1 0 1 0 0 1 1 1 1 1 1 0 1 1 0 0 1 1\n",
      " 0 1 1 0 1 0 1 1 1 0 1 0 1 1 1 0 0 0 1 0 0 1 0 0 0 1]\n"
     ]
    }
   ],
   "source": [
    "# generate predictions using the best-performing model\n",
    "predictions1 = random_forest1.predict(reduced1)\n",
    "\n",
    "#printing the predictions\n",
    "print(predictions1)\n",
    "\n"
   ]
  },
  {
   "cell_type": "code",
   "execution_count": 54,
   "metadata": {},
   "outputs": [],
   "source": [
    "#These are the predictions for the test data set."
   ]
  },
  {
   "cell_type": "code",
   "execution_count": null,
   "metadata": {},
   "outputs": [],
   "source": []
  },
  {
   "cell_type": "code",
   "execution_count": null,
   "metadata": {},
   "outputs": [],
   "source": []
  },
  {
   "cell_type": "code",
   "execution_count": null,
   "metadata": {},
   "outputs": [],
   "source": []
  }
 ],
 "metadata": {
  "kernelspec": {
   "display_name": "Python 3",
   "language": "python",
   "name": "python3"
  },
  "language_info": {
   "codemirror_mode": {
    "name": "ipython",
    "version": 3
   },
   "file_extension": ".py",
   "mimetype": "text/x-python",
   "name": "python",
   "nbconvert_exporter": "python",
   "pygments_lexer": "ipython3",
   "version": "3.7.6"
  }
 },
 "nbformat": 4,
 "nbformat_minor": 4
}
